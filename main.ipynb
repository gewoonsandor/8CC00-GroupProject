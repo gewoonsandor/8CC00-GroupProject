{
 "cells": [
  {
   "cell_type": "code",
   "execution_count": null,
   "id": "initial_id",
   "metadata": {},
   "outputs": [],
   "source": [
    "# Imports\n",
    "import rdkit\n",
    "from rdkit import Chem\n",
    "from rdkit.Chem import AllChem\n",
    "import sklearn as sk\n",
    "from sklearn.ensemble import RandomForestRegressor\n",
    "from sklearn.model_selection import train_test_split\n",
    "from sklearn.multioutput import MultiOutputRegressor\n",
    "from sklearn.pipeline import Pipeline\n",
    "from sklearn.preprocessing import StandardScaler\n",
    "import pandas as pd"
   ]
  },
  {
   "cell_type": "code",
   "execution_count": null,
   "id": "21fbc8825eb19091",
   "metadata": {},
   "outputs": [],
   "source": [
    "# Read data and construct dataframe\n",
    "\n",
    "df = pd.read_csv('datasets/tested_molecules.csv')\n",
    "\n",
    "df.head()"
   ]
  },
  {
   "cell_type": "code",
   "execution_count": null,
   "id": "195e0e30683ec852",
   "metadata": {},
   "outputs": [],
   "source": [
    "# Set the columns which we use for predicting data, so it is easy to change if ever necessary.\n",
    "x_column = 'SMILES'\n",
    "y_columns = ['PKM2_inhibition', 'ERK2_inhibition']"
   ]
  },
  {
   "cell_type": "code",
   "execution_count": null,
   "id": "f8335404ba92970b",
   "metadata": {},
   "outputs": [],
   "source": [
    "# Convert SMILES to fingerprints, so we have usable data training\n",
    "\n",
    "def smiles_to_fingerprint(smiles):\n",
    "    mol = Chem.MolFromSmiles(smiles)\n",
    "    if mol:\n",
    "        fp = AllChem.GetMorganFingerprintAsBitVect(mol, 2, nBits=1024)\n",
    "        return list(fp)\n",
    "    else:\n",
    "        return [0] * 1024\n",
    "    \n",
    "df['Fingerprint'] = df['SMILES'].apply(smiles_to_fingerprint)\n",
    "x_column = 'Fingerprint'"
   ]
  },
  {
   "cell_type": "code",
   "execution_count": null,
   "id": "a9f31f5e0759ad77",
   "metadata": {},
   "outputs": [],
   "source": [
    "# Create test and train sets\n",
    "\n",
    "X = list(df[x_column])\n",
    "y = df[y_columns].astype(int)\n",
    "\n",
    "X_train, X_test, y_train, y_test = train_test_split(X, y, test_size=0.2, random_state=0)"
   ]
  },
  {
   "cell_type": "code",
   "execution_count": null,
   "id": "eaac872bc21dc2c0",
   "metadata": {},
   "outputs": [],
   "source": [
    "# Prediction model\n",
    "\n",
    "# Define the pipeline\n",
    "model = Pipeline([\n",
    "    ('scaler', StandardScaler()),\n",
    "    ('regressor', MultiOutputRegressor(RandomForestRegressor(n_estimators=100, random_state=0)))\n",
    "])\n",
    "\n",
    "# Train model\n",
    "model.fit(X_train, y_train)\n",
    "\n",
    "# Make prediction using trained model\n",
    "predictions = model.predict(X_test)\n",
    "rounded_predictions = (predictions >= 0.5).astype(int)\n",
    "\n",
    "# Print results\n",
    "print(\"Predictions:\\n\", rounded_predictions)\n",
    "print(\"Actual values:\\n\", y_test.values)"
   ]
  },
  {
   "cell_type": "code",
   "execution_count": null,
   "id": "b7cce4b8d44e4a4b",
   "metadata": {},
   "outputs": [],
   "source": [
    "\n"
   ]
  }
 ],
 "metadata": {
  "language_info": {
   "name": "python"
  }
 },
 "nbformat": 4,
 "nbformat_minor": 5
}
