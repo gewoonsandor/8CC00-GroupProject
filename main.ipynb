{
 "cells": [
  {
   "cell_type": "code",
   "execution_count": null,
   "id": "initial_id",
   "metadata": {},
   "outputs": [],
   "source": [
    "# Imports\n",
    "import rdkit\n",
    "import sklearn as sk\n",
    "from sklearn.model_selection import train_test_split\n",
    "import pandas as pd"
   ]
  },
  {
   "cell_type": "code",
   "execution_count": null,
   "id": "21fbc8825eb19091",
   "metadata": {},
   "outputs": [],
   "source": [
    "# Read data and construct dataframe\n",
    "\n",
    "df = pd.read_csv('datasets/tested_molecules.csv')\n",
    "\n",
    "df.head()"
   ]
  },
  {
   "cell_type": "code",
   "execution_count": null,
   "id": "f8335404ba92970b",
   "metadata": {},
   "outputs": [],
   "source": [
    "# Set the columns which we use for predicting data, so it is easy to change if ever necessary.\n",
    "x_column = 'SMILES'\n",
    "y_columns = ['PKM2_inhibition', 'ERK2_inhibition']"
   ]
  },
  {
   "cell_type": "code",
   "execution_count": null,
   "id": "a9f31f5e0759ad77",
   "metadata": {},
   "outputs": [],
   "source": [
    "# Create test and train sets\n",
    "\n",
    "X = list(df[x_column])\n",
    "y = df[y_columns]\n",
    "\n",
    "X_train, X_test, y_train, y_test = train_test_split(X, y, test_size=0.2, random_state=0)"
   ]
  },
  {
   "cell_type": "code",
   "execution_count": null,
   "id": "eaac872bc21dc2c0",
   "metadata": {},
   "outputs": [],
   "source": []
  }
 ],
 "metadata": {
  "language_info": {
   "name": "python"
  }
 },
 "nbformat": 4,
 "nbformat_minor": 5
}
