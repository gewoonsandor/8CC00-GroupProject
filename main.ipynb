{
 "cells": [
  {
   "cell_type": "code",
   "execution_count": null,
   "id": "initial_id",
   "metadata": {},
   "outputs": [],
   "source": [
    "# Imports\n",
    "import rdkit\n",
    "from rdkit import Chem\n",
    "from rdkit.Chem import AllChem\n",
    "import sklearn as sk\n",
    "from sklearn.ensemble import RandomForestRegressor\n",
    "from sklearn.metrics import accuracy_score, precision_score, recall_score, f1_score\n",
    "from sklearn.model_selection import train_test_split\n",
    "from sklearn.multioutput import MultiOutputRegressor\n",
    "from sklearn.pipeline import Pipeline\n",
    "from sklearn.preprocessing import StandardScaler\n",
    "import pandas as pd"
   ]
  },
  {
   "cell_type": "code",
   "execution_count": null,
   "id": "21fbc8825eb19091",
   "metadata": {},
   "outputs": [],
   "source": [
    "# Read data and construct dataframe\n",
    "\n",
    "df = pd.read_csv('datasets/tested_molecules.csv')\n",
    "\n",
    "df.head()"
   ]
  },
  {
   "cell_type": "code",
   "execution_count": null,
   "id": "195e0e30683ec852",
   "metadata": {},
   "outputs": [],
   "source": [
    "# Set the columns which we use for predicting data, so it is easy to change if ever necessary.\n",
    "x_column = 'SMILES'\n",
    "y_columns = ['PKM2_inhibition', 'ERK2_inhibition']"
   ]
  },
  {
   "cell_type": "code",
   "execution_count": null,
   "id": "f8335404ba92970b",
   "metadata": {},
   "outputs": [],
   "source": [
    "# Convert SMILES to fingerprints, so we have usable data training\n",
    "\n",
    "def smiles_to_fingerprint(smiles):\n",
    "    mol = Chem.MolFromSmiles(smiles)\n",
    "    if mol:\n",
    "        fp = AllChem.GetMorganFingerprintAsBitVect(mol, 2, nBits=1024)\n",
    "        return list(fp)\n",
    "    else:\n",
    "        return [0] * 1024\n",
    "    \n",
    "df['Fingerprint'] = df['SMILES'].apply(smiles_to_fingerprint)\n",
    "x_column = 'Fingerprint'"
   ]
  },
  {
   "cell_type": "code",
   "execution_count": null,
   "id": "a9f31f5e0759ad77",
   "metadata": {},
   "outputs": [],
   "source": [
    "# Create test and train sets\n",
    "\n",
    "X = list(df[x_column])\n",
    "y = df[y_columns].astype(int)\n",
    "\n",
    "X_train, X_test, y_train, y_test = train_test_split(X, y, test_size=0.2, random_state=0)"
   ]
  },
  {
   "cell_type": "code",
   "execution_count": null,
   "id": "eaac872bc21dc2c0",
   "metadata": {},
   "outputs": [],
   "source": [
    "# Prediction model\n",
    "\n",
    "# Define the pipeline\n",
    "model = Pipeline([\n",
    "    ('scaler', StandardScaler()),\n",
    "    ('regressor', MultiOutputRegressor(RandomForestRegressor(n_estimators=100, random_state=0)))\n",
    "])\n",
    "\n",
    "# Train model\n",
    "model.fit(X_train, y_train)\n",
    "\n",
    "# Make prediction using trained model\n",
    "predictions = model.predict(X_test)\n",
    "rounded_predictions = (predictions >= 0.5).astype(int)"
   ]
  },
  {
   "cell_type": "code",
   "execution_count": null,
   "id": "b7cce4b8d44e4a4b",
   "metadata": {},
   "outputs": [],
   "source": [
    "# Calculate prediction scores\n",
    "\n",
    "# Calculate metrics for each property\n",
    "accuracy1 = accuracy_score(y_test.iloc[:, 0], rounded_predictions[:, 0])\n",
    "precision1 = precision_score(y_test.iloc[:, 0], rounded_predictions[:, 0], zero_division=1)\n",
    "recall1 = recall_score(y_test.iloc[:, 0], rounded_predictions[:, 0], zero_division=1)\n",
    "f1_1 = f1_score(y_test.iloc[:, 0], rounded_predictions[:, 0], zero_division=1)\n",
    "\n",
    "accuracy2 = accuracy_score(y_test.iloc[:, 1], rounded_predictions[:, 1])\n",
    "precision2 = precision_score(y_test.iloc[:, 1], rounded_predictions[:, 1], zero_division=1)\n",
    "recall2 = recall_score(y_test.iloc[:, 1], rounded_predictions[:, 1], zero_division=1)\n",
    "f1_2 = f1_score(y_test.iloc[:, 1], rounded_predictions[:, 1], zero_division=1)\n",
    "\n",
    "# Print the results\n",
    "print(\"PKM2 - Accuracy: {:.4f}, Precision: {:.4f}, Recall: {:.4f}, F1: {:.4f}\".format(accuracy1, precision1, recall1, f1_1))\n",
    "print(\"ERK2 - Accuracy: {:.4f}, Precision: {:.4f}, Recall: {:.4f}, F1: {:.4f}\".format(accuracy2, precision2, recall2, f1_2))"
   ]
  },
  {
   "cell_type": "code",
   "execution_count": null,
   "id": "1ce8bbc9f4e30bee",
   "metadata": {},
   "outputs": [],
   "source": []
  }
 ],
 "metadata": {
  "language_info": {
   "name": "python"
  }
 },
 "nbformat": 4,
 "nbformat_minor": 5
}
