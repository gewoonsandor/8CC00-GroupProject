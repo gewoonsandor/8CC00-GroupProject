{
 "cells": [
  {
   "cell_type": "code",
   "id": "initial_id",
   "metadata": {
    "collapsed": true,
    "ExecuteTime": {
     "end_time": "2024-06-15T14:50:30.980636Z",
     "start_time": "2024-06-15T14:50:30.971095Z"
    }
   },
   "source": [
    "import importlib\n",
    "# Imports\n",
    "import pandas as pd\n",
    "from sklearn.ensemble import RandomForestRegressor\n",
    "from sklearn.multioutput import MultiOutputRegressor\n",
    "from sklearn.pipeline import Pipeline\n",
    "from sklearn.preprocessing import StandardScaler\n",
    "\n",
    "import defaults\n",
    "importlib.reload(defaults)\n",
    "from sklearn.model_selection import train_test_split"
   ],
   "outputs": [],
   "execution_count": 31
  },
  {
   "metadata": {
    "ExecuteTime": {
     "end_time": "2024-06-15T14:50:31.059891Z",
     "start_time": "2024-06-15T14:50:30.982991Z"
    }
   },
   "cell_type": "code",
   "source": [
    "df = pd.read_csv('./datasets/prepared_data.csv')\n",
    "df.head()"
   ],
   "id": "3c90fafcec7088fd",
   "outputs": [
    {
     "data": {
      "text/plain": [
       "   Unnamed: 0  Fingerprint_0  Fingerprint_1  Fingerprint_2  Fingerprint_3  \\\n",
       "0           1              0              0              0              1   \n",
       "1           5              0              0              0              0   \n",
       "2          10              0              1              0              0   \n",
       "3          24              0              0              0              0   \n",
       "4          25              0              0              0              0   \n",
       "\n",
       "   Fingerprint_4  Fingerprint_5  Fingerprint_6  Fingerprint_7  Fingerprint_8  \\\n",
       "0              0              0              0              0              0   \n",
       "1              0              0              0              0              0   \n",
       "2              0              0              0              0              0   \n",
       "3              0              0              0              0              0   \n",
       "4              0              0              0              0              0   \n",
       "\n",
       "   ...  fr_alkyl_halide.1  FractionCSP3.1  MolWt.1  ExactMolWt.1    Chi1.1  \\\n",
       "0  ...                  0        0.153846  250.681    250.039672  8.058551   \n",
       "1  ...                  0        0.142857  258.277    258.100442  9.075387   \n",
       "2  ...                  0        0.200000  240.306    240.126263  8.664704   \n",
       "3  ...                  0        0.357143  246.310    246.136828  8.613392   \n",
       "4  ...                  0        0.153846  215.252    215.094629  7.808862   \n",
       "\n",
       "   fr_Ar_NH.1  fr_Nhpyrrole.1  LabuteASA.1  EState_VSA4.1  \\\n",
       "0           0               0   103.266383      10.949676   \n",
       "1           0               0   110.375335       5.687386   \n",
       "2           0               0   106.879298       5.687386   \n",
       "3           0               0   106.546782       5.563451   \n",
       "4           0               0    94.032824      16.459835   \n",
       "\n",
       "                                         Fingerprint  \n",
       "0  [0, 0, 0, 1, 0, 0, 0, 0, 0, 0, 0, 0, 0, 0, 1, ...  \n",
       "1  [0, 0, 0, 0, 0, 0, 0, 0, 0, 0, 0, 0, 0, 0, 0, ...  \n",
       "2  [0, 1, 0, 0, 0, 0, 0, 0, 0, 0, 0, 0, 0, 0, 0, ...  \n",
       "3  [0, 0, 0, 0, 0, 0, 0, 0, 0, 0, 0, 0, 0, 0, 0, ...  \n",
       "4  [0, 0, 0, 0, 0, 0, 0, 0, 0, 0, 0, 0, 0, 0, 0, ...  \n",
       "\n",
       "[5 rows x 1115 columns]"
      ],
      "text/html": [
       "<div>\n",
       "<style scoped>\n",
       "    .dataframe tbody tr th:only-of-type {\n",
       "        vertical-align: middle;\n",
       "    }\n",
       "\n",
       "    .dataframe tbody tr th {\n",
       "        vertical-align: top;\n",
       "    }\n",
       "\n",
       "    .dataframe thead th {\n",
       "        text-align: right;\n",
       "    }\n",
       "</style>\n",
       "<table border=\"1\" class=\"dataframe\">\n",
       "  <thead>\n",
       "    <tr style=\"text-align: right;\">\n",
       "      <th></th>\n",
       "      <th>Unnamed: 0</th>\n",
       "      <th>Fingerprint_0</th>\n",
       "      <th>Fingerprint_1</th>\n",
       "      <th>Fingerprint_2</th>\n",
       "      <th>Fingerprint_3</th>\n",
       "      <th>Fingerprint_4</th>\n",
       "      <th>Fingerprint_5</th>\n",
       "      <th>Fingerprint_6</th>\n",
       "      <th>Fingerprint_7</th>\n",
       "      <th>Fingerprint_8</th>\n",
       "      <th>...</th>\n",
       "      <th>fr_alkyl_halide.1</th>\n",
       "      <th>FractionCSP3.1</th>\n",
       "      <th>MolWt.1</th>\n",
       "      <th>ExactMolWt.1</th>\n",
       "      <th>Chi1.1</th>\n",
       "      <th>fr_Ar_NH.1</th>\n",
       "      <th>fr_Nhpyrrole.1</th>\n",
       "      <th>LabuteASA.1</th>\n",
       "      <th>EState_VSA4.1</th>\n",
       "      <th>Fingerprint</th>\n",
       "    </tr>\n",
       "  </thead>\n",
       "  <tbody>\n",
       "    <tr>\n",
       "      <th>0</th>\n",
       "      <td>1</td>\n",
       "      <td>0</td>\n",
       "      <td>0</td>\n",
       "      <td>0</td>\n",
       "      <td>1</td>\n",
       "      <td>0</td>\n",
       "      <td>0</td>\n",
       "      <td>0</td>\n",
       "      <td>0</td>\n",
       "      <td>0</td>\n",
       "      <td>...</td>\n",
       "      <td>0</td>\n",
       "      <td>0.153846</td>\n",
       "      <td>250.681</td>\n",
       "      <td>250.039672</td>\n",
       "      <td>8.058551</td>\n",
       "      <td>0</td>\n",
       "      <td>0</td>\n",
       "      <td>103.266383</td>\n",
       "      <td>10.949676</td>\n",
       "      <td>[0, 0, 0, 1, 0, 0, 0, 0, 0, 0, 0, 0, 0, 0, 1, ...</td>\n",
       "    </tr>\n",
       "    <tr>\n",
       "      <th>1</th>\n",
       "      <td>5</td>\n",
       "      <td>0</td>\n",
       "      <td>0</td>\n",
       "      <td>0</td>\n",
       "      <td>0</td>\n",
       "      <td>0</td>\n",
       "      <td>0</td>\n",
       "      <td>0</td>\n",
       "      <td>0</td>\n",
       "      <td>0</td>\n",
       "      <td>...</td>\n",
       "      <td>0</td>\n",
       "      <td>0.142857</td>\n",
       "      <td>258.277</td>\n",
       "      <td>258.100442</td>\n",
       "      <td>9.075387</td>\n",
       "      <td>0</td>\n",
       "      <td>0</td>\n",
       "      <td>110.375335</td>\n",
       "      <td>5.687386</td>\n",
       "      <td>[0, 0, 0, 0, 0, 0, 0, 0, 0, 0, 0, 0, 0, 0, 0, ...</td>\n",
       "    </tr>\n",
       "    <tr>\n",
       "      <th>2</th>\n",
       "      <td>10</td>\n",
       "      <td>0</td>\n",
       "      <td>1</td>\n",
       "      <td>0</td>\n",
       "      <td>0</td>\n",
       "      <td>0</td>\n",
       "      <td>0</td>\n",
       "      <td>0</td>\n",
       "      <td>0</td>\n",
       "      <td>0</td>\n",
       "      <td>...</td>\n",
       "      <td>0</td>\n",
       "      <td>0.200000</td>\n",
       "      <td>240.306</td>\n",
       "      <td>240.126263</td>\n",
       "      <td>8.664704</td>\n",
       "      <td>0</td>\n",
       "      <td>0</td>\n",
       "      <td>106.879298</td>\n",
       "      <td>5.687386</td>\n",
       "      <td>[0, 1, 0, 0, 0, 0, 0, 0, 0, 0, 0, 0, 0, 0, 0, ...</td>\n",
       "    </tr>\n",
       "    <tr>\n",
       "      <th>3</th>\n",
       "      <td>24</td>\n",
       "      <td>0</td>\n",
       "      <td>0</td>\n",
       "      <td>0</td>\n",
       "      <td>0</td>\n",
       "      <td>0</td>\n",
       "      <td>0</td>\n",
       "      <td>0</td>\n",
       "      <td>0</td>\n",
       "      <td>0</td>\n",
       "      <td>...</td>\n",
       "      <td>0</td>\n",
       "      <td>0.357143</td>\n",
       "      <td>246.310</td>\n",
       "      <td>246.136828</td>\n",
       "      <td>8.613392</td>\n",
       "      <td>0</td>\n",
       "      <td>0</td>\n",
       "      <td>106.546782</td>\n",
       "      <td>5.563451</td>\n",
       "      <td>[0, 0, 0, 0, 0, 0, 0, 0, 0, 0, 0, 0, 0, 0, 0, ...</td>\n",
       "    </tr>\n",
       "    <tr>\n",
       "      <th>4</th>\n",
       "      <td>25</td>\n",
       "      <td>0</td>\n",
       "      <td>0</td>\n",
       "      <td>0</td>\n",
       "      <td>0</td>\n",
       "      <td>0</td>\n",
       "      <td>0</td>\n",
       "      <td>0</td>\n",
       "      <td>0</td>\n",
       "      <td>0</td>\n",
       "      <td>...</td>\n",
       "      <td>0</td>\n",
       "      <td>0.153846</td>\n",
       "      <td>215.252</td>\n",
       "      <td>215.094629</td>\n",
       "      <td>7.808862</td>\n",
       "      <td>0</td>\n",
       "      <td>0</td>\n",
       "      <td>94.032824</td>\n",
       "      <td>16.459835</td>\n",
       "      <td>[0, 0, 0, 0, 0, 0, 0, 0, 0, 0, 0, 0, 0, 0, 0, ...</td>\n",
       "    </tr>\n",
       "  </tbody>\n",
       "</table>\n",
       "<p>5 rows × 1115 columns</p>\n",
       "</div>"
      ]
     },
     "execution_count": 32,
     "metadata": {},
     "output_type": "execute_result"
    }
   ],
   "execution_count": 32
  },
  {
   "metadata": {
    "ExecuteTime": {
     "end_time": "2024-06-15T14:50:31.075191Z",
     "start_time": "2024-06-15T14:50:31.062417Z"
    }
   },
   "cell_type": "code",
   "source": [
    "# Create test and train sets\n",
    "X, y = defaults.get_data('pkm2')\n",
    "X = df[defaults.x_data_fingerprint]\n",
    "y = df[defaults.y_data].astype(int)\n",
    "\n",
    "X_train, X_test, y_train, y_test = train_test_split(X, y, test_size=0.2)"
   ],
   "id": "827787af6fa160e1",
   "outputs": [],
   "execution_count": 33
  },
  {
   "metadata": {
    "ExecuteTime": {
     "end_time": "2024-06-15T14:50:32.371784Z",
     "start_time": "2024-06-15T14:50:31.076213Z"
    }
   },
   "cell_type": "code",
   "source": [
    "# Prediction model\n",
    "\n",
    "# Define the pipeline\n",
    "model = Pipeline([\n",
    "    ('scaler', StandardScaler()),\n",
    "    ('regressor', MultiOutputRegressor(RandomForestRegressor(n_estimators=100)))\n",
    "])\n",
    "\n",
    "# Train model\n",
    "model.fit(X_train, y_train)\n",
    "\n",
    "# Make prediction using trained model\n",
    "predictions = model.predict(X_test)\n",
    "rounded_predictions = (predictions >= 0.5).astype(int)"
   ],
   "id": "325306a7c68f52c9",
   "outputs": [],
   "execution_count": 34
  },
  {
   "metadata": {
    "ExecuteTime": {
     "end_time": "2024-06-15T14:50:32.402562Z",
     "start_time": "2024-06-15T14:50:32.373090Z"
    }
   },
   "cell_type": "code",
   "source": [
    "# Calculate prediction scores\n",
    "defaults.calculate_scores(rounded_predictions[:, 0], y_test.iloc[:, 0], 'PKM2')\n",
    "defaults.calculate_scores(rounded_predictions[:, 1], y_test.iloc[:, 1], 'ERK2')"
   ],
   "id": "6701882ba5188fa7",
   "outputs": [
    {
     "name": "stdout",
     "output_type": "stream",
     "text": [
      "PKM2 - Accuracy: 0.9765, precision: 1.0000, recall: 0.0000, f1: 0.0000\n",
      "ERK2 - Accuracy: 1.0000, precision: 1.0000, recall: 1.0000, f1: 1.0000\n"
     ]
    },
    {
     "data": {
      "text/plain": [
       "(1.0, 1.0, 1.0, 1.0)"
      ]
     },
     "execution_count": 35,
     "metadata": {},
     "output_type": "execute_result"
    }
   ],
   "execution_count": 35
  },
  {
   "metadata": {
    "ExecuteTime": {
     "end_time": "2024-06-15T14:50:32.417811Z",
     "start_time": "2024-06-15T14:50:32.403569Z"
    }
   },
   "cell_type": "code",
   "source": "",
   "id": "9b4c499c37f89000",
   "outputs": [],
   "execution_count": 35
  }
 ],
 "metadata": {
  "kernelspec": {
   "display_name": "Python 3",
   "language": "python",
   "name": "python3"
  },
  "language_info": {
   "codemirror_mode": {
    "name": "ipython",
    "version": 2
   },
   "file_extension": ".py",
   "mimetype": "text/x-python",
   "name": "python",
   "nbconvert_exporter": "python",
   "pygments_lexer": "ipython2",
   "version": "2.7.6"
  }
 },
 "nbformat": 4,
 "nbformat_minor": 5
}
