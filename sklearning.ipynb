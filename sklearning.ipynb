{
 "cells": [
  {
   "cell_type": "code",
   "id": "initial_id",
   "metadata": {
    "collapsed": true,
    "ExecuteTime": {
     "end_time": "2024-06-15T12:39:00.271469Z",
     "start_time": "2024-06-15T12:38:58.748195Z"
    }
   },
   "source": [
    "# Imports\n",
    "import pandas as pd\n",
    "from sklearn.ensemble import RandomForestRegressor\n",
    "from sklearn.multioutput import MultiOutputRegressor\n",
    "from sklearn.pipeline import Pipeline\n",
    "from sklearn.preprocessing import StandardScaler\n",
    "\n",
    "import defaults\n",
    "from sklearn.model_selection import train_test_split"
   ],
   "outputs": [],
   "execution_count": 1
  },
  {
   "metadata": {
    "ExecuteTime": {
     "end_time": "2024-06-15T12:39:00.365971Z",
     "start_time": "2024-06-15T12:39:00.272462Z"
    }
   },
   "cell_type": "code",
   "source": [
    "df = pd.read_csv('./datasets/prepared_data.csv')\n",
    "df.head()"
   ],
   "id": "3c90fafcec7088fd",
   "outputs": [
    {
     "data": {
      "text/plain": [
       "   Unnamed: 0  Fingerprint_0  Fingerprint_1  Fingerprint_2  Fingerprint_3  \\\n",
       "0           1              0              0              0              1   \n",
       "1           2              0              0              0              0   \n",
       "2           3              0              0              0              0   \n",
       "3           4              0              0              0              0   \n",
       "4           5              0              0              0              0   \n",
       "\n",
       "   Fingerprint_4  Fingerprint_5  Fingerprint_6  Fingerprint_7  Fingerprint_8  \\\n",
       "0              0              0              0              0              0   \n",
       "1              0              0              0              0              0   \n",
       "2              0              0              0              0              0   \n",
       "3              0              0              0              0              0   \n",
       "4              0              0              0              0              0   \n",
       "\n",
       "   ...  MolWt.1   LogP.1  TPSA.1  NumHDonors.1  NumHAcceptors.1  \\\n",
       "0  ...  250.681  3.23272   39.44             0                3   \n",
       "1  ...  210.277  0.76110   58.20             2                2   \n",
       "2  ...  232.239  0.55792   58.17             0                4   \n",
       "3  ...  226.663  1.03540   44.00             0                4   \n",
       "4  ...  258.277  2.51460   62.55             1                3   \n",
       "\n",
       "   rotatable_bonds.1  fr_NH1.1  fr_benzene.1  fr_phenol.1  \\\n",
       "0                  3         0             1            0   \n",
       "1                  8         2             0            0   \n",
       "2                  3         0             1            0   \n",
       "3                  4         0             0            0   \n",
       "4                  3         1             1            0   \n",
       "\n",
       "                                         Fingerprint  \n",
       "0  [0, 0, 0, 1, 0, 0, 0, 0, 0, 0, 0, 0, 0, 0, 1, ...  \n",
       "1  [0, 0, 0, 0, 0, 0, 0, 0, 0, 0, 0, 0, 0, 0, 0, ...  \n",
       "2  [0, 0, 0, 0, 0, 0, 0, 0, 0, 0, 0, 0, 0, 0, 0, ...  \n",
       "3  [0, 0, 0, 0, 0, 0, 0, 0, 0, 0, 0, 0, 0, 0, 0, ...  \n",
       "4  [0, 0, 0, 0, 0, 0, 0, 0, 0, 0, 0, 0, 0, 0, 0, ...  \n",
       "\n",
       "[5 rows x 1047 columns]"
      ],
      "text/html": [
       "<div>\n",
       "<style scoped>\n",
       "    .dataframe tbody tr th:only-of-type {\n",
       "        vertical-align: middle;\n",
       "    }\n",
       "\n",
       "    .dataframe tbody tr th {\n",
       "        vertical-align: top;\n",
       "    }\n",
       "\n",
       "    .dataframe thead th {\n",
       "        text-align: right;\n",
       "    }\n",
       "</style>\n",
       "<table border=\"1\" class=\"dataframe\">\n",
       "  <thead>\n",
       "    <tr style=\"text-align: right;\">\n",
       "      <th></th>\n",
       "      <th>Unnamed: 0</th>\n",
       "      <th>Fingerprint_0</th>\n",
       "      <th>Fingerprint_1</th>\n",
       "      <th>Fingerprint_2</th>\n",
       "      <th>Fingerprint_3</th>\n",
       "      <th>Fingerprint_4</th>\n",
       "      <th>Fingerprint_5</th>\n",
       "      <th>Fingerprint_6</th>\n",
       "      <th>Fingerprint_7</th>\n",
       "      <th>Fingerprint_8</th>\n",
       "      <th>...</th>\n",
       "      <th>MolWt.1</th>\n",
       "      <th>LogP.1</th>\n",
       "      <th>TPSA.1</th>\n",
       "      <th>NumHDonors.1</th>\n",
       "      <th>NumHAcceptors.1</th>\n",
       "      <th>rotatable_bonds.1</th>\n",
       "      <th>fr_NH1.1</th>\n",
       "      <th>fr_benzene.1</th>\n",
       "      <th>fr_phenol.1</th>\n",
       "      <th>Fingerprint</th>\n",
       "    </tr>\n",
       "  </thead>\n",
       "  <tbody>\n",
       "    <tr>\n",
       "      <th>0</th>\n",
       "      <td>1</td>\n",
       "      <td>0</td>\n",
       "      <td>0</td>\n",
       "      <td>0</td>\n",
       "      <td>1</td>\n",
       "      <td>0</td>\n",
       "      <td>0</td>\n",
       "      <td>0</td>\n",
       "      <td>0</td>\n",
       "      <td>0</td>\n",
       "      <td>...</td>\n",
       "      <td>250.681</td>\n",
       "      <td>3.23272</td>\n",
       "      <td>39.44</td>\n",
       "      <td>0</td>\n",
       "      <td>3</td>\n",
       "      <td>3</td>\n",
       "      <td>0</td>\n",
       "      <td>1</td>\n",
       "      <td>0</td>\n",
       "      <td>[0, 0, 0, 1, 0, 0, 0, 0, 0, 0, 0, 0, 0, 0, 1, ...</td>\n",
       "    </tr>\n",
       "    <tr>\n",
       "      <th>1</th>\n",
       "      <td>2</td>\n",
       "      <td>0</td>\n",
       "      <td>0</td>\n",
       "      <td>0</td>\n",
       "      <td>0</td>\n",
       "      <td>0</td>\n",
       "      <td>0</td>\n",
       "      <td>0</td>\n",
       "      <td>0</td>\n",
       "      <td>0</td>\n",
       "      <td>...</td>\n",
       "      <td>210.277</td>\n",
       "      <td>0.76110</td>\n",
       "      <td>58.20</td>\n",
       "      <td>2</td>\n",
       "      <td>2</td>\n",
       "      <td>8</td>\n",
       "      <td>2</td>\n",
       "      <td>0</td>\n",
       "      <td>0</td>\n",
       "      <td>[0, 0, 0, 0, 0, 0, 0, 0, 0, 0, 0, 0, 0, 0, 0, ...</td>\n",
       "    </tr>\n",
       "    <tr>\n",
       "      <th>2</th>\n",
       "      <td>3</td>\n",
       "      <td>0</td>\n",
       "      <td>0</td>\n",
       "      <td>0</td>\n",
       "      <td>0</td>\n",
       "      <td>0</td>\n",
       "      <td>0</td>\n",
       "      <td>0</td>\n",
       "      <td>0</td>\n",
       "      <td>0</td>\n",
       "      <td>...</td>\n",
       "      <td>232.239</td>\n",
       "      <td>0.55792</td>\n",
       "      <td>58.17</td>\n",
       "      <td>0</td>\n",
       "      <td>4</td>\n",
       "      <td>3</td>\n",
       "      <td>0</td>\n",
       "      <td>1</td>\n",
       "      <td>0</td>\n",
       "      <td>[0, 0, 0, 0, 0, 0, 0, 0, 0, 0, 0, 0, 0, 0, 0, ...</td>\n",
       "    </tr>\n",
       "    <tr>\n",
       "      <th>3</th>\n",
       "      <td>4</td>\n",
       "      <td>0</td>\n",
       "      <td>0</td>\n",
       "      <td>0</td>\n",
       "      <td>0</td>\n",
       "      <td>0</td>\n",
       "      <td>0</td>\n",
       "      <td>0</td>\n",
       "      <td>0</td>\n",
       "      <td>0</td>\n",
       "      <td>...</td>\n",
       "      <td>226.663</td>\n",
       "      <td>1.03540</td>\n",
       "      <td>44.00</td>\n",
       "      <td>0</td>\n",
       "      <td>4</td>\n",
       "      <td>4</td>\n",
       "      <td>0</td>\n",
       "      <td>0</td>\n",
       "      <td>0</td>\n",
       "      <td>[0, 0, 0, 0, 0, 0, 0, 0, 0, 0, 0, 0, 0, 0, 0, ...</td>\n",
       "    </tr>\n",
       "    <tr>\n",
       "      <th>4</th>\n",
       "      <td>5</td>\n",
       "      <td>0</td>\n",
       "      <td>0</td>\n",
       "      <td>0</td>\n",
       "      <td>0</td>\n",
       "      <td>0</td>\n",
       "      <td>0</td>\n",
       "      <td>0</td>\n",
       "      <td>0</td>\n",
       "      <td>0</td>\n",
       "      <td>...</td>\n",
       "      <td>258.277</td>\n",
       "      <td>2.51460</td>\n",
       "      <td>62.55</td>\n",
       "      <td>1</td>\n",
       "      <td>3</td>\n",
       "      <td>3</td>\n",
       "      <td>1</td>\n",
       "      <td>1</td>\n",
       "      <td>0</td>\n",
       "      <td>[0, 0, 0, 0, 0, 0, 0, 0, 0, 0, 0, 0, 0, 0, 0, ...</td>\n",
       "    </tr>\n",
       "  </tbody>\n",
       "</table>\n",
       "<p>5 rows × 1047 columns</p>\n",
       "</div>"
      ]
     },
     "execution_count": 2,
     "metadata": {},
     "output_type": "execute_result"
    }
   ],
   "execution_count": 2
  },
  {
   "metadata": {
    "ExecuteTime": {
     "end_time": "2024-06-15T12:39:00.381765Z",
     "start_time": "2024-06-15T12:39:00.366890Z"
    }
   },
   "cell_type": "code",
   "source": [
    "# Create test and train sets\n",
    "X = df[defaults.x_data_fingerprint]\n",
    "y = df[defaults.y_data].astype(int)\n",
    "\n",
    "X_train, X_test, y_train, y_test = train_test_split(X, y, test_size=0.2)"
   ],
   "id": "827787af6fa160e1",
   "outputs": [],
   "execution_count": 3
  },
  {
   "metadata": {
    "ExecuteTime": {
     "end_time": "2024-06-15T12:39:13.057885Z",
     "start_time": "2024-06-15T12:39:10.281724Z"
    }
   },
   "cell_type": "code",
   "source": [
    "# Prediction model\n",
    "\n",
    "# Define the pipeline\n",
    "model = Pipeline([\n",
    "    ('scaler', StandardScaler()),\n",
    "    ('regressor', MultiOutputRegressor(RandomForestRegressor(n_estimators=100)))\n",
    "])\n",
    "\n",
    "# Train model\n",
    "model.fit(X_train, y_train)\n",
    "\n",
    "# Make prediction using trained model\n",
    "predictions = model.predict(X_test)\n",
    "rounded_predictions = (predictions >= 0.5).astype(int)"
   ],
   "id": "325306a7c68f52c9",
   "outputs": [],
   "execution_count": 6
  },
  {
   "metadata": {
    "ExecuteTime": {
     "end_time": "2024-06-15T12:39:13.976820Z",
     "start_time": "2024-06-15T12:39:13.958823Z"
    }
   },
   "cell_type": "code",
   "source": [
    "# Calculate prediction scores\n",
    "defaults.calculate_scores(rounded_predictions[:, 0], y_test.iloc[:, 0], 'PKM2')\n",
    "defaults.calculate_scores(rounded_predictions[:, 1], y_test.iloc[:, 1], 'ERK2')"
   ],
   "id": "6701882ba5188fa7",
   "outputs": [
    {
     "name": "stdout",
     "output_type": "stream",
     "text": [
      "PKM2 - Accuracy: 0.9605, precision: 1.0000, recall: 0.0000, f1: 0.0000\n",
      "ERK2 - Accuracy: 0.9435, precision: 0.0000, recall: 0.0000, f1: 0.0000\n"
     ]
    },
    {
     "data": {
      "text/plain": [
       "(0.943502824858757, 0.0, 0.0, 0.0)"
      ]
     },
     "execution_count": 7,
     "metadata": {},
     "output_type": "execute_result"
    }
   ],
   "execution_count": 7
  },
  {
   "metadata": {
    "ExecuteTime": {
     "end_time": "2024-06-15T12:39:03.242931Z",
     "start_time": "2024-06-15T12:39:03.227918Z"
    }
   },
   "cell_type": "code",
   "source": "",
   "id": "9b4c499c37f89000",
   "outputs": [],
   "execution_count": 5
  }
 ],
 "metadata": {
  "kernelspec": {
   "display_name": "Python 3",
   "language": "python",
   "name": "python3"
  },
  "language_info": {
   "codemirror_mode": {
    "name": "ipython",
    "version": 2
   },
   "file_extension": ".py",
   "mimetype": "text/x-python",
   "name": "python",
   "nbconvert_exporter": "python",
   "pygments_lexer": "ipython2",
   "version": "2.7.6"
  }
 },
 "nbformat": 4,
 "nbformat_minor": 5
}
