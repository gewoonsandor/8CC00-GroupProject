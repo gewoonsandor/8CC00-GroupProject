{
 "cells": [
  {
   "cell_type": "code",
   "id": "initial_id",
   "metadata": {
    "collapsed": true,
    "ExecuteTime": {
     "end_time": "2024-06-17T09:49:36.725997Z",
     "start_time": "2024-06-17T09:49:35.257861Z"
    }
   },
   "source": [
    "# Imports\n",
    "import pickle\n",
    "import pandas as pd\n",
    "from rdkit import Chem\n",
    "from rdkit.Chem import AllChem\n",
    "import defaults"
   ],
   "outputs": [],
   "execution_count": 1
  },
  {
   "metadata": {
    "ExecuteTime": {
     "end_time": "2024-06-17T09:49:36.757086Z",
     "start_time": "2024-06-17T09:49:36.725997Z"
    }
   },
   "cell_type": "code",
   "source": [
    "# Load the dataset\n",
    "df = pd.read_csv('./datasets/untested_molecules.csv')"
   ],
   "id": "866d45fb10463cf9",
   "outputs": [],
   "execution_count": 2
  },
  {
   "metadata": {
    "ExecuteTime": {
     "end_time": "2024-06-17T09:50:01.156328Z",
     "start_time": "2024-06-17T09:49:36.759882Z"
    }
   },
   "cell_type": "code",
   "source": [
    "df['Descriptors'] = df['SMILES'].apply(defaults.compute_descriptors)\n",
    "descriptors_df = pd.json_normalize(df['Descriptors'])\n",
    "df = pd.concat([df, descriptors_df], axis=1).drop(columns=['Descriptors'])"
   ],
   "id": "bb5c28cfa917f5b8",
   "outputs": [],
   "execution_count": 3
  },
  {
   "metadata": {
    "ExecuteTime": {
     "end_time": "2024-06-17T09:50:06.561324Z",
     "start_time": "2024-06-17T09:50:01.157442Z"
    }
   },
   "cell_type": "code",
   "source": [
    "def smiles_to_fingerprint(smiles):\n",
    "    mol = Chem.MolFromSmiles(smiles)\n",
    "    if mol:\n",
    "        fp = AllChem.GetMorganFingerprintAsBitVect(mol, 2, nBits=1024)\n",
    "        return list(fp)\n",
    "    else:\n",
    "        return [0] * 1024\n",
    "\n",
    "# Compute fingerprints and expand into separate columns\n",
    "df['Fingerprint'] = df['SMILES'].apply(smiles_to_fingerprint)\n",
    "fingerprints_df = pd.DataFrame(df['Fingerprint'].tolist(), columns=[f'Fingerprint_{i}' for i in range(1024)])\n",
    "\n",
    "# Concatenate the original DataFrame with the new fingerprints DataFrame\n",
    "df = pd.concat([df, fingerprints_df], axis=1).drop(columns=['Fingerprint'])\n"
   ],
   "id": "361dc5a978af495d",
   "outputs": [],
   "execution_count": 4
  },
  {
   "metadata": {
    "ExecuteTime": {
     "end_time": "2024-06-17T09:50:06.574552Z",
     "start_time": "2024-06-17T09:50:06.565691Z"
    }
   },
   "cell_type": "code",
   "source": [
    "def apply_model(inhibitor):\n",
    "    with open(f\"./models/model_{inhibitor}.pkl\", \"rb\") as f:\n",
    "        model = pickle.load(f)\n",
    "\n",
    "    x_data = df[defaults.get_descriptors(inhibitor)]\n",
    "    df[inhibitor] = (model.predict(x_data) >= 0.5).astype(int)"
   ],
   "id": "621c840a8d7282ab",
   "outputs": [],
   "execution_count": 5
  },
  {
   "metadata": {
    "ExecuteTime": {
     "end_time": "2024-06-17T09:50:06.948743Z",
     "start_time": "2024-06-17T09:50:06.576299Z"
    }
   },
   "cell_type": "code",
   "source": [
    "for inhibitor in defaults.y_data:\n",
    "    apply_model(inhibitor)"
   ],
   "id": "6f9d8b1b0c342350",
   "outputs": [],
   "execution_count": 6
  },
  {
   "metadata": {
    "ExecuteTime": {
     "end_time": "2024-06-17T09:50:06.991197Z",
     "start_time": "2024-06-17T09:50:06.948743Z"
    }
   },
   "cell_type": "code",
   "source": [
    "result_df = df.iloc[:, :3]\n",
    "result_df.to_csv(\"./datasets/applied_molecules.csv\")"
   ],
   "id": "613bed6a6357ffe",
   "outputs": [],
   "execution_count": 7
  },
  {
   "metadata": {
    "ExecuteTime": {
     "end_time": "2024-06-17T09:50:07.006866Z",
     "start_time": "2024-06-17T09:50:06.992979Z"
    }
   },
   "cell_type": "code",
   "source": "",
   "id": "6e23f004361c1839",
   "outputs": [],
   "execution_count": 7
  }
 ],
 "metadata": {
  "kernelspec": {
   "display_name": "Python 3",
   "language": "python",
   "name": "python3"
  },
  "language_info": {
   "codemirror_mode": {
    "name": "ipython",
    "version": 2
   },
   "file_extension": ".py",
   "mimetype": "text/x-python",
   "name": "python",
   "nbconvert_exporter": "python",
   "pygments_lexer": "ipython2",
   "version": "2.7.6"
  }
 },
 "nbformat": 4,
 "nbformat_minor": 5
}
