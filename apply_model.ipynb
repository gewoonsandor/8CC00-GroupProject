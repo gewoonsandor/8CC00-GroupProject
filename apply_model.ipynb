{
 "cells": [
  {
   "cell_type": "code",
   "id": "initial_id",
   "metadata": {
    "collapsed": true,
    "ExecuteTime": {
     "end_time": "2024-06-17T09:49:36.725997Z",
     "start_time": "2024-06-17T09:49:35.257861Z"
    }
   },
   "source": [
    "# Imports\n",
    "import pickle\n",
    "import pandas as pd\n",
    "from rdkit import Chem\n",
    "from rdkit.Chem import AllChem\n",
    "import defaults"
   ],
   "outputs": [],
   "execution_count": 1
  },
  {
   "metadata": {
    "ExecuteTime": {
     "end_time": "2024-06-17T09:49:36.757086Z",
     "start_time": "2024-06-17T09:49:36.725997Z"
    }
   },
   "cell_type": "code",
   "source": [
    "# Load the dataset\n",
    "df = pd.read_csv('./datasets/untested_molecules.csv')"
   ],
   "id": "866d45fb10463cf9",
   "outputs": [],
   "execution_count": 2
  },
  {
   "metadata": {
    "ExecuteTime": {
     "end_time": "2024-06-17T09:50:01.156328Z",
     "start_time": "2024-06-17T09:49:36.759882Z"
    }
   },
   "cell_type": "code",
   "source": [
    "df['Descriptors'] = df['SMILES'].apply(defaults.compute_descriptors)\n",
    "descriptors_df = pd.json_normalize(df['Descriptors'])\n",
    "df = pd.concat([df, descriptors_df], axis=1).drop(columns=['Descriptors'])"
   ],
   "id": "bb5c28cfa917f5b8",
   "outputs": [],
   "execution_count": 3
  },
  {
   "metadata": {
    "ExecuteTime": {
     "end_time": "2024-06-18T18:26:47.464321Z",
     "start_time": "2024-06-18T18:26:43.053673Z"
    }
   },
   "cell_type": "code",
   "source": [
    "def smiles_to_fingerprint(smiles):\n",
    "    mol = Chem.MolFromSmiles(smiles)\n",
    "    if mol:\n",
    "        fp = AllChem.GetMorganFingerprintAsBitVect(mol, 2, nBits=1024)\n",
    "        return list(fp)\n",
    "    else:\n",
    "        return [0] * 1024\n",
    "\n",
    "# Compute fingerprints and expand into separate columns\n",
    "df['Fingerprint'] = df['SMILES'].apply(smiles_to_fingerprint)\n",
    "fingerprints_df = pd.DataFrame(df['Fingerprint'].tolist(), columns=[f'Fingerprint_{i}' for i in range(1024)])\n",
    "\n",
    "# Concatenate the original DataFrame with the new fingerprints DataFrame\n",
    "df = pd.concat([df, fingerprints_df], axis=1).drop(columns=['Fingerprint'])\n",
    "\n",
    "df.head()"
   ],
   "id": "361dc5a978af495d",
   "outputs": [
    {
     "data": {
      "text/plain": [
       "                                       SMILES  PKM2_inhibition  \\\n",
       "0  C[C@@H](Sc1nc(=O)cc(N)[nH]1)C(=O)NC1CCCCC1                0   \n",
       "1          O=C(CCN1C(=O)COc2ccccc21)NCc1cccs1                0   \n",
       "2      Cn1nnnc1SCC(=O)N1CC[NH+](Cc2ccccc2)CC1                0   \n",
       "3  CCOC(=O)CCP(=O)([O-])[C@@H](O)c1ccc(OC)cc1                0   \n",
       "4               C=CCNC(=O)c1cc(-c2ccccc2O)on1                0   \n",
       "\n",
       "   ERK2_inhibition  FractionCSP3  NumAromaticRings  fr_C_O     BertzCT  \\\n",
       "0                0      0.615385                 1       1  525.347595   \n",
       "1                0      0.250000                 2       2  669.790259   \n",
       "2                0      0.466667                 2       1  638.426476   \n",
       "3                0      0.461538                 1       1  484.139678   \n",
       "4                0      0.076923                 2       1  575.120263   \n",
       "\n",
       "   fr_amide  MolLogP  fr_Ar_NH  ...  Fingerprint_1014  Fingerprint_1015  \\\n",
       "0         1   1.2816         1  ...                 0                 0   \n",
       "1         2   2.1800         0  ...                 0                 0   \n",
       "2         1  -0.7705         0  ...                 0                 0   \n",
       "3         0   1.2777         0  ...                 0                 0   \n",
       "4         1   1.9630         0  ...                 0                 0   \n",
       "\n",
       "   Fingerprint_1016  Fingerprint_1017  Fingerprint_1018  Fingerprint_1019  \\\n",
       "0                 0                 0                 0                 1   \n",
       "1                 0                 0                 0                 0   \n",
       "2                 0                 0                 0                 0   \n",
       "3                 0                 0                 0                 0   \n",
       "4                 0                 0                 0                 0   \n",
       "\n",
       "   Fingerprint_1020  Fingerprint_1021  Fingerprint_1022  Fingerprint_1023  \n",
       "0                 0                 0                 0                 0  \n",
       "1                 0                 0                 0                 0  \n",
       "2                 0                 0                 0                 0  \n",
       "3                 0                 0                 0                 0  \n",
       "4                 0                 0                 0                 0  \n",
       "\n",
       "[5 rows x 2107 columns]"
      ],
      "text/html": [
       "<div>\n",
       "<style scoped>\n",
       "    .dataframe tbody tr th:only-of-type {\n",
       "        vertical-align: middle;\n",
       "    }\n",
       "\n",
       "    .dataframe tbody tr th {\n",
       "        vertical-align: top;\n",
       "    }\n",
       "\n",
       "    .dataframe thead th {\n",
       "        text-align: right;\n",
       "    }\n",
       "</style>\n",
       "<table border=\"1\" class=\"dataframe\">\n",
       "  <thead>\n",
       "    <tr style=\"text-align: right;\">\n",
       "      <th></th>\n",
       "      <th>SMILES</th>\n",
       "      <th>PKM2_inhibition</th>\n",
       "      <th>ERK2_inhibition</th>\n",
       "      <th>FractionCSP3</th>\n",
       "      <th>NumAromaticRings</th>\n",
       "      <th>fr_C_O</th>\n",
       "      <th>BertzCT</th>\n",
       "      <th>fr_amide</th>\n",
       "      <th>MolLogP</th>\n",
       "      <th>fr_Ar_NH</th>\n",
       "      <th>...</th>\n",
       "      <th>Fingerprint_1014</th>\n",
       "      <th>Fingerprint_1015</th>\n",
       "      <th>Fingerprint_1016</th>\n",
       "      <th>Fingerprint_1017</th>\n",
       "      <th>Fingerprint_1018</th>\n",
       "      <th>Fingerprint_1019</th>\n",
       "      <th>Fingerprint_1020</th>\n",
       "      <th>Fingerprint_1021</th>\n",
       "      <th>Fingerprint_1022</th>\n",
       "      <th>Fingerprint_1023</th>\n",
       "    </tr>\n",
       "  </thead>\n",
       "  <tbody>\n",
       "    <tr>\n",
       "      <th>0</th>\n",
       "      <td>C[C@@H](Sc1nc(=O)cc(N)[nH]1)C(=O)NC1CCCCC1</td>\n",
       "      <td>0</td>\n",
       "      <td>0</td>\n",
       "      <td>0.615385</td>\n",
       "      <td>1</td>\n",
       "      <td>1</td>\n",
       "      <td>525.347595</td>\n",
       "      <td>1</td>\n",
       "      <td>1.2816</td>\n",
       "      <td>1</td>\n",
       "      <td>...</td>\n",
       "      <td>0</td>\n",
       "      <td>0</td>\n",
       "      <td>0</td>\n",
       "      <td>0</td>\n",
       "      <td>0</td>\n",
       "      <td>1</td>\n",
       "      <td>0</td>\n",
       "      <td>0</td>\n",
       "      <td>0</td>\n",
       "      <td>0</td>\n",
       "    </tr>\n",
       "    <tr>\n",
       "      <th>1</th>\n",
       "      <td>O=C(CCN1C(=O)COc2ccccc21)NCc1cccs1</td>\n",
       "      <td>0</td>\n",
       "      <td>0</td>\n",
       "      <td>0.250000</td>\n",
       "      <td>2</td>\n",
       "      <td>2</td>\n",
       "      <td>669.790259</td>\n",
       "      <td>2</td>\n",
       "      <td>2.1800</td>\n",
       "      <td>0</td>\n",
       "      <td>...</td>\n",
       "      <td>0</td>\n",
       "      <td>0</td>\n",
       "      <td>0</td>\n",
       "      <td>0</td>\n",
       "      <td>0</td>\n",
       "      <td>0</td>\n",
       "      <td>0</td>\n",
       "      <td>0</td>\n",
       "      <td>0</td>\n",
       "      <td>0</td>\n",
       "    </tr>\n",
       "    <tr>\n",
       "      <th>2</th>\n",
       "      <td>Cn1nnnc1SCC(=O)N1CC[NH+](Cc2ccccc2)CC1</td>\n",
       "      <td>0</td>\n",
       "      <td>0</td>\n",
       "      <td>0.466667</td>\n",
       "      <td>2</td>\n",
       "      <td>1</td>\n",
       "      <td>638.426476</td>\n",
       "      <td>1</td>\n",
       "      <td>-0.7705</td>\n",
       "      <td>0</td>\n",
       "      <td>...</td>\n",
       "      <td>0</td>\n",
       "      <td>0</td>\n",
       "      <td>0</td>\n",
       "      <td>0</td>\n",
       "      <td>0</td>\n",
       "      <td>0</td>\n",
       "      <td>0</td>\n",
       "      <td>0</td>\n",
       "      <td>0</td>\n",
       "      <td>0</td>\n",
       "    </tr>\n",
       "    <tr>\n",
       "      <th>3</th>\n",
       "      <td>CCOC(=O)CCP(=O)([O-])[C@@H](O)c1ccc(OC)cc1</td>\n",
       "      <td>0</td>\n",
       "      <td>0</td>\n",
       "      <td>0.461538</td>\n",
       "      <td>1</td>\n",
       "      <td>1</td>\n",
       "      <td>484.139678</td>\n",
       "      <td>0</td>\n",
       "      <td>1.2777</td>\n",
       "      <td>0</td>\n",
       "      <td>...</td>\n",
       "      <td>0</td>\n",
       "      <td>0</td>\n",
       "      <td>0</td>\n",
       "      <td>0</td>\n",
       "      <td>0</td>\n",
       "      <td>0</td>\n",
       "      <td>0</td>\n",
       "      <td>0</td>\n",
       "      <td>0</td>\n",
       "      <td>0</td>\n",
       "    </tr>\n",
       "    <tr>\n",
       "      <th>4</th>\n",
       "      <td>C=CCNC(=O)c1cc(-c2ccccc2O)on1</td>\n",
       "      <td>0</td>\n",
       "      <td>0</td>\n",
       "      <td>0.076923</td>\n",
       "      <td>2</td>\n",
       "      <td>1</td>\n",
       "      <td>575.120263</td>\n",
       "      <td>1</td>\n",
       "      <td>1.9630</td>\n",
       "      <td>0</td>\n",
       "      <td>...</td>\n",
       "      <td>0</td>\n",
       "      <td>0</td>\n",
       "      <td>0</td>\n",
       "      <td>0</td>\n",
       "      <td>0</td>\n",
       "      <td>0</td>\n",
       "      <td>0</td>\n",
       "      <td>0</td>\n",
       "      <td>0</td>\n",
       "      <td>0</td>\n",
       "    </tr>\n",
       "  </tbody>\n",
       "</table>\n",
       "<p>5 rows × 2107 columns</p>\n",
       "</div>"
      ]
     },
     "execution_count": 29,
     "metadata": {},
     "output_type": "execute_result"
    }
   ],
   "execution_count": 29
  },
  {
   "metadata": {
    "ExecuteTime": {
     "end_time": "2024-06-17T09:50:06.574552Z",
     "start_time": "2024-06-17T09:50:06.565691Z"
    }
   },
   "cell_type": "code",
   "source": [
    "def apply_model(inhibitor):\n",
    "    with open(f\"./models/model_{inhibitor}.pkl\", \"rb\") as f:\n",
    "        model = pickle.load(f)\n",
    "\n",
    "    x_data = df[defaults.get_descriptors(inhibitor)]\n",
    "    df[inhibitor] = (model.predict(x_data) >= 0.5).astype(int)"
   ],
   "id": "621c840a8d7282ab",
   "outputs": [],
   "execution_count": 5
  },
  {
   "metadata": {
    "ExecuteTime": {
     "end_time": "2024-06-17T09:50:06.948743Z",
     "start_time": "2024-06-17T09:50:06.576299Z"
    }
   },
   "cell_type": "code",
   "source": [
    "for inhibitor in defaults.y_data:\n",
    "    apply_model(inhibitor)"
   ],
   "id": "6f9d8b1b0c342350",
   "outputs": [],
   "execution_count": 6
  },
  {
   "metadata": {
    "ExecuteTime": {
     "end_time": "2024-06-18T18:44:19.623684Z",
     "start_time": "2024-06-18T18:44:19.611843Z"
    }
   },
   "cell_type": "code",
   "source": [
    "result_df = df.iloc[:, :3]\n",
    "result_df.iloc[:, 0] = '\"' + result_df.iloc[:, 0].astype(str) + '\"'\n",
    "result_df.to_csv(\"./datasets/applied_molecules.csv\", index=False, quoting=3)  # quoting=3 (csv.QUOTE_NONE) to avoid quoting other columns"
   ],
   "id": "613bed6a6357ffe",
   "outputs": [],
   "execution_count": 50
  },
  {
   "metadata": {
    "ExecuteTime": {
     "end_time": "2024-06-17T09:50:07.006866Z",
     "start_time": "2024-06-17T09:50:06.992979Z"
    }
   },
   "cell_type": "code",
   "source": "",
   "id": "6e23f004361c1839",
   "outputs": [],
   "execution_count": 7
  }
 ],
 "metadata": {
  "kernelspec": {
   "display_name": "Python 3",
   "language": "python",
   "name": "python3"
  },
  "language_info": {
   "codemirror_mode": {
    "name": "ipython",
    "version": 2
   },
   "file_extension": ".py",
   "mimetype": "text/x-python",
   "name": "python",
   "nbconvert_exporter": "python",
   "pygments_lexer": "ipython2",
   "version": "2.7.6"
  }
 },
 "nbformat": 4,
 "nbformat_minor": 5
}
